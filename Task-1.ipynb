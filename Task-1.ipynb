{
 "cells": [
  {
   "cell_type": "markdown",
   "metadata": {},
   "source": [
    "Q1. (To Explore Supervised Machine Learning)\n",
    "\n",
    "In this regression task we will predict the percentage of marks that a student is expected to score based upon the number of hours they studied. This is a simple linear regression task as it involves just two variables. Data can be found at http://bit.ly/w-data\n",
    "\n",
    "What will be predicted score if a student study for 9.25 hrs in a day? \n"
   ]
  },
  {
   "cell_type": "code",
   "execution_count": 1,
   "metadata": {},
   "outputs": [],
   "source": [
    "# import required libraries\n",
    "from sklearn.linear_model import LinearRegression\n",
    "from sklearn.model_selection import train_test_split\n",
    "from sklearn.metrics import mean_squared_error,mean_absolute_error\n",
    "from sklearn.linear_model import ElasticNet\n",
    "from sklearn.linear_model import Ridge\n",
    "from sklearn.linear_model import Lasso\n",
    "import pandas as pd\n",
    "import numpy as np\n",
    "import matplotlib.pyplot as plt"
   ]
  },
  {
   "cell_type": "code",
   "execution_count": 2,
   "metadata": {},
   "outputs": [],
   "source": [
    "# read the input csv file\n",
    "df = pd.read_csv(\"task-1.csv\")"
   ]
  },
  {
   "cell_type": "code",
   "execution_count": 3,
   "metadata": {},
   "outputs": [
    {
     "data": {
      "text/html": [
       "<div>\n",
       "<style scoped>\n",
       "    .dataframe tbody tr th:only-of-type {\n",
       "        vertical-align: middle;\n",
       "    }\n",
       "\n",
       "    .dataframe tbody tr th {\n",
       "        vertical-align: top;\n",
       "    }\n",
       "\n",
       "    .dataframe thead th {\n",
       "        text-align: right;\n",
       "    }\n",
       "</style>\n",
       "<table border=\"1\" class=\"dataframe\">\n",
       "  <thead>\n",
       "    <tr style=\"text-align: right;\">\n",
       "      <th></th>\n",
       "      <th>Hours</th>\n",
       "      <th>Scores</th>\n",
       "    </tr>\n",
       "  </thead>\n",
       "  <tbody>\n",
       "    <tr>\n",
       "      <th>0</th>\n",
       "      <td>2.5</td>\n",
       "      <td>21</td>\n",
       "    </tr>\n",
       "    <tr>\n",
       "      <th>1</th>\n",
       "      <td>5.1</td>\n",
       "      <td>47</td>\n",
       "    </tr>\n",
       "    <tr>\n",
       "      <th>2</th>\n",
       "      <td>3.2</td>\n",
       "      <td>27</td>\n",
       "    </tr>\n",
       "    <tr>\n",
       "      <th>3</th>\n",
       "      <td>8.5</td>\n",
       "      <td>75</td>\n",
       "    </tr>\n",
       "    <tr>\n",
       "      <th>4</th>\n",
       "      <td>3.5</td>\n",
       "      <td>30</td>\n",
       "    </tr>\n",
       "  </tbody>\n",
       "</table>\n",
       "</div>"
      ],
      "text/plain": [
       "   Hours  Scores\n",
       "0    2.5      21\n",
       "1    5.1      47\n",
       "2    3.2      27\n",
       "3    8.5      75\n",
       "4    3.5      30"
      ]
     },
     "execution_count": 3,
     "metadata": {},
     "output_type": "execute_result"
    }
   ],
   "source": [
    "# view first first rows\n",
    "df.head()"
   ]
  },
  {
   "cell_type": "code",
   "execution_count": 4,
   "metadata": {},
   "outputs": [
    {
     "name": "stdout",
     "output_type": "stream",
     "text": [
      "<class 'pandas.core.frame.DataFrame'>\n",
      "RangeIndex: 25 entries, 0 to 24\n",
      "Data columns (total 2 columns):\n",
      " #   Column  Non-Null Count  Dtype  \n",
      "---  ------  --------------  -----  \n",
      " 0   Hours   25 non-null     float64\n",
      " 1   Scores  25 non-null     int64  \n",
      "dtypes: float64(1), int64(1)\n",
      "memory usage: 528.0 bytes\n"
     ]
    }
   ],
   "source": [
    "# to get info about the dataset file\n",
    "df.info()"
   ]
  },
  {
   "cell_type": "code",
   "execution_count": 5,
   "metadata": {},
   "outputs": [
    {
     "data": {
      "text/html": [
       "<div>\n",
       "<style scoped>\n",
       "    .dataframe tbody tr th:only-of-type {\n",
       "        vertical-align: middle;\n",
       "    }\n",
       "\n",
       "    .dataframe tbody tr th {\n",
       "        vertical-align: top;\n",
       "    }\n",
       "\n",
       "    .dataframe thead th {\n",
       "        text-align: right;\n",
       "    }\n",
       "</style>\n",
       "<table border=\"1\" class=\"dataframe\">\n",
       "  <thead>\n",
       "    <tr style=\"text-align: right;\">\n",
       "      <th></th>\n",
       "      <th>Hours</th>\n",
       "      <th>Scores</th>\n",
       "    </tr>\n",
       "  </thead>\n",
       "  <tbody>\n",
       "    <tr>\n",
       "      <th>count</th>\n",
       "      <td>25.000000</td>\n",
       "      <td>25.000000</td>\n",
       "    </tr>\n",
       "    <tr>\n",
       "      <th>mean</th>\n",
       "      <td>5.012000</td>\n",
       "      <td>51.480000</td>\n",
       "    </tr>\n",
       "    <tr>\n",
       "      <th>std</th>\n",
       "      <td>2.525094</td>\n",
       "      <td>25.286887</td>\n",
       "    </tr>\n",
       "    <tr>\n",
       "      <th>min</th>\n",
       "      <td>1.100000</td>\n",
       "      <td>17.000000</td>\n",
       "    </tr>\n",
       "    <tr>\n",
       "      <th>25%</th>\n",
       "      <td>2.700000</td>\n",
       "      <td>30.000000</td>\n",
       "    </tr>\n",
       "    <tr>\n",
       "      <th>50%</th>\n",
       "      <td>4.800000</td>\n",
       "      <td>47.000000</td>\n",
       "    </tr>\n",
       "    <tr>\n",
       "      <th>75%</th>\n",
       "      <td>7.400000</td>\n",
       "      <td>75.000000</td>\n",
       "    </tr>\n",
       "    <tr>\n",
       "      <th>max</th>\n",
       "      <td>9.200000</td>\n",
       "      <td>95.000000</td>\n",
       "    </tr>\n",
       "  </tbody>\n",
       "</table>\n",
       "</div>"
      ],
      "text/plain": [
       "           Hours     Scores\n",
       "count  25.000000  25.000000\n",
       "mean    5.012000  51.480000\n",
       "std     2.525094  25.286887\n",
       "min     1.100000  17.000000\n",
       "25%     2.700000  30.000000\n",
       "50%     4.800000  47.000000\n",
       "75%     7.400000  75.000000\n",
       "max     9.200000  95.000000"
      ]
     },
     "execution_count": 5,
     "metadata": {},
     "output_type": "execute_result"
    }
   ],
   "source": [
    "# to get info about data\n",
    "df.describe()"
   ]
  },
  {
   "cell_type": "code",
   "execution_count": 6,
   "metadata": {},
   "outputs": [],
   "source": [
    "# reading input and output columns from dataframe\n",
    "X=pd.DataFrame(df['Hours'])\n",
    "Y=pd.DataFrame(df['Scores'])"
   ]
  },
  {
   "cell_type": "code",
   "execution_count": 7,
   "metadata": {},
   "outputs": [
    {
     "data": {
      "text/plain": [
       "Text(0, 0.5, 'Marks_obtained')"
      ]
     },
     "execution_count": 7,
     "metadata": {},
     "output_type": "execute_result"
    },
    {
     "data": {
      "image/png": "[encoded data removed]",
      "text/plain": [
       "<Figure size 432x288 with 1 Axes>"
      ]
     },
     "metadata": {
      "needs_background": "light"
     },
     "output_type": "display_data"
    }
   ],
   "source": [
    "# plot the input data to visualize\n",
    "plt.scatter(X, Y,)\n",
    "plt.xlabel(\"No_of_hours_study\")\n",
    "plt.ylabel(\"Marks_obtained\")"
   ]
  },
  {
   "cell_type": "markdown",
   "metadata": {},
   "source": [
    "# Linear Regression model"
   ]
  },
  {
   "cell_type": "code",
   "execution_count": 8,
   "metadata": {},
   "outputs": [],
   "source": [
    "# Simple Linear regression model\n",
    "def Linear_regression(X, Y, value):\n",
    "    lr = LinearRegression()\n",
    "    lr.fit(X, Y)\n",
    "    prediction = lr.predict(value)\n",
    "    Y_pred = lr.predict(X)\n",
    "    mse = mean_absolute_error(Y, Y_pred)\n",
    "    coff = lr.coef_\n",
    "    intercept = lr.intercept_\n",
    "    return prediction, mse, coff, intercept"
   ]
  },
  {
   "cell_type": "code",
   "execution_count": 9,
   "metadata": {},
   "outputs": [
    {
     "name": "stdout",
     "output_type": "stream",
     "text": [
      "Simple Linear regression model\n",
      "\n",
      "Predicted value for 9.25 is : 92.9098547701573\n",
      "Mean absolute error is : 4.972805319866375\n",
      "The linear equation is y = 9.78X+2.48 \n"
     ]
    }
   ],
   "source": [
    "pred, msr, coff, intercept = Linear_regression(X, Y, np.array([[9.25]]))\n",
    "print(\"Simple Linear regression model\")\n",
    "print()\n",
    "print(\"Predicted value for 9.25 is :\",np.squeeze(pred))\n",
    "print(\"Mean absolute error is :\", msr)\n",
    "print(\"The linear equation is y = %.2fX+%.2f \"%(coff, intercept))"
   ]
  },
  {
   "cell_type": "markdown",
   "metadata": {},
   "source": [
    "As you can see simple linear regression model predicts marks as 92.90 for 9.25hrs of study \n",
    "\n",
    "mean_absolute_error of model = 4.97"
   ]
  },
  {
   "cell_type": "code",
   "execution_count": 10,
   "metadata": {},
   "outputs": [
    {
     "data": {
      "text/plain": [
       "<matplotlib.legend.Legend at 0x19f8cae34f0>"
      ]
     },
     "execution_count": 10,
     "metadata": {},
     "output_type": "execute_result"
    },
    {
     "data": {
      "image/png": "[encoded data removed]",
      "text/plain": [
       "<Figure size 432x288 with 1 Axes>"
      ]
     },
     "metadata": {
      "needs_background": "light"
     },
     "output_type": "display_data"
    }
   ],
   "source": [
    "# plotting predicted line along with data points to view the fit\n",
    "regr = X*coff+intercept\n",
    "plt.scatter(X, Y)\n",
    "plt.plot(X,regr,'r')\n",
    "plt.xlabel(\"No_of_hours_study\")\n",
    "plt.ylabel(\"Marks_obtained\")\n",
    "plt.legend([\"regressor_line\",\"points\"])"
   ]
  },
  {
   "cell_type": "markdown",
   "metadata": {},
   "source": [
    "# Redge linear model"
   ]
  },
  {
   "cell_type": "markdown",
   "metadata": {},
   "source": [
    "Redge model implements L2 regularization"
   ]
  },
  {
   "cell_type": "code",
   "execution_count": 11,
   "metadata": {},
   "outputs": [],
   "source": [
    "# Redge model(l2 regularization)\n",
    "def Redge(X, Y, value):\n",
    "    ridge_model = Ridge(alpha = 1.0)\n",
    "    ridge_model.fit(X, Y)\n",
    "    prediction = ridge_model.predict(value)\n",
    "    Y_pred = ridge_model.predict(X)\n",
    "    mse = mean_absolute_error(Y, Y_pred)\n",
    "    coff = ridge_model.coef_\n",
    "    intercept = ridge_model.intercept_\n",
    "    return prediction, mse, coff, intercept"
   ]
  },
  {
   "cell_type": "code",
   "execution_count": 12,
   "metadata": {},
   "outputs": [
    {
     "name": "stdout",
     "output_type": "stream",
     "text": [
      "Redge linear model\n",
      "\n",
      "Predicted value for 9.25 is : 92.64087584985432\n",
      "Mean absolute error is : 4.954688910472489\n",
      "The linear equation is y = 9.71X+2.80 \n"
     ]
    }
   ],
   "source": [
    "pred, msr, coff, intercept = Redge(X, Y, np.array([[9.25]]))\n",
    "print(\"Redge linear model\")\n",
    "print()\n",
    "print(\"Predicted value for 9.25 is :\",np.squeeze(pred))\n",
    "print(\"Mean absolute error is :\",msr)\n",
    "print(\"The linear equation is y = %.2fX+%.2f \"%(coff, intercept))"
   ]
  },
  {
   "cell_type": "markdown",
   "metadata": {},
   "source": [
    "As you can see Redge linear  model predicts marks as 92.64 for 9.25hrs of study \n",
    "\n",
    "mean_absolute_error of model = 4.95"
   ]
  },
  {
   "cell_type": "code",
   "execution_count": 13,
   "metadata": {},
   "outputs": [
    {
     "data": {
      "text/plain": [
       "<matplotlib.legend.Legend at 0x19f8cb51130>"
      ]
     },
     "execution_count": 13,
     "metadata": {},
     "output_type": "execute_result"
    },
    {
     "data": {
      "image/png": "[encoded data removed]",
      "text/plain": [
       "<Figure size 432x288 with 1 Axes>"
      ]
     },
     "metadata": {
      "needs_background": "light"
     },
     "output_type": "display_data"
    }
   ],
   "source": [
    "# plotting predicted line along with data points to view the fit\n",
    "regr = X*coff+intercept\n",
    "plt.scatter(X, Y)\n",
    "plt.plot(X,regr,'r')\n",
    "plt.xlabel(\"No_of_hours_study\")\n",
    "plt.ylabel(\"Marks_obtained\")\n",
    "plt.legend([\"regressor_line\",\"points\"])"
   ]
  },
  {
   "cell_type": "markdown",
   "metadata": {},
   "source": [
    "# Lasso linear model"
   ]
  },
  {
   "cell_type": "markdown",
   "metadata": {},
   "source": [
    "Lasso model implements L1 regularization"
   ]
  },
  {
   "cell_type": "code",
   "execution_count": 14,
   "metadata": {},
   "outputs": [],
   "source": [
    "# Lasso model(l1 regularization)\n",
    "def Lasso_model(X, Y,value):\n",
    "    lasso = Lasso(alpha=1.0)\n",
    "    lasso.fit(X, Y)\n",
    "    prediction = lasso.predict(value)\n",
    "    Y_pred = lasso.predict(X)\n",
    "    mse = mean_absolute_error(Y, Y_pred)\n",
    "    coff = lasso.coef_\n",
    "    intercept = lasso.intercept_\n",
    "    return prediction, mse, coff, intercept"
   ]
  },
  {
   "cell_type": "code",
   "execution_count": 15,
   "metadata": {},
   "outputs": [
    {
     "name": "stdout",
     "output_type": "stream",
     "text": [
      "Lasso model\n",
      "\n",
      "Predicted value for 9.25 is : 92.21749057678937\n",
      "Mean absolute error is : 4.926172843378659\n",
      "The linear equation is y = 9.61X+3.30 \n"
     ]
    }
   ],
   "source": [
    "pred, msr, coff, intercept = Lasso_model(X, Y, np.array([[9.25]]))\n",
    "print(\"Lasso model\")\n",
    "print()\n",
    "print(\"Predicted value for 9.25 is :\",np.squeeze(pred))\n",
    "print(\"Mean absolute error is :\",msr)\n",
    "print(\"The linear equation is y = %.2fX+%.2f \"%(coff, intercept))"
   ]
  },
  {
   "cell_type": "markdown",
   "metadata": {},
   "source": [
    "As you can see Lasso linear model predicts marks as 92.21 for 9.25hrs of study \n",
    "\n",
    "mean_absolute_error of model = 4.92"
   ]
  },
  {
   "cell_type": "code",
   "execution_count": 16,
   "metadata": {},
   "outputs": [
    {
     "data": {
      "text/plain": [
       "<matplotlib.legend.Legend at 0x19f8cbca730>"
      ]
     },
     "execution_count": 16,
     "metadata": {},
     "output_type": "execute_result"
    },
    {
     "data": {
      "image/png": "[encoded data removed]",
      "text/plain": [
       "<Figure size 432x288 with 1 Axes>"
      ]
     },
     "metadata": {
      "needs_background": "light"
     },
     "output_type": "display_data"
    }
   ],
   "source": [
    "# plotting predicted line along with data points to view the fit\n",
    "regr = X*coff+intercept\n",
    "plt.scatter(X, Y)\n",
    "plt.plot(X,regr,'r')\n",
    "plt.xlabel(\"No_of_hours_study\")\n",
    "plt.ylabel(\"Marks_obtained\")\n",
    "plt.legend([\"regressor_line\",\"points\"])"
   ]
  },
  {
   "cell_type": "markdown",
   "metadata": {},
   "source": [
    "# ElasticNet model"
   ]
  },
  {
   "cell_type": "markdown",
   "metadata": {},
   "source": [
    "ElasticNet model implements L1 and L2 regularization"
   ]
  },
  {
   "cell_type": "code",
   "execution_count": 17,
   "metadata": {},
   "outputs": [],
   "source": [
    "# ElasticNet model(l1 and l2 regularization)\n",
    "def ElasticNet_model(X, Y, value):\n",
    "    en = ElasticNet(alpha=1.0)\n",
    "    en.fit(X, Y)\n",
    "    prediction = en.predict(value)\n",
    "    Y_pred = en.predict(X)\n",
    "    mse = mean_absolute_error(Y, Y_pred)\n",
    "    coff = en.coef_\n",
    "    intercept = en.intercept_\n",
    "    return prediction, mse, coff, intercept"
   ]
  },
  {
   "cell_type": "code",
   "execution_count": 18,
   "metadata": {},
   "outputs": [
    {
     "name": "stdout",
     "output_type": "stream",
     "text": [
      "ElasticNet model\n",
      "\n",
      "Predicted value for 9.25 is : 89.4611711485298\n",
      "Mean absolute error is : 4.805951244031161\n",
      "The linear equation is y = 8.96X+6.56 \n"
     ]
    }
   ],
   "source": [
    "pred, msr, coff, intercept = ElasticNet_model(X, Y, np.array([[9.25]]))\n",
    "print(\"ElasticNet model\")\n",
    "print()\n",
    "print(\"Predicted value for 9.25 is :\",np.squeeze(pred))\n",
    "print(\"Mean absolute error is :\",msr)\n",
    "print(\"The linear equation is y = %.2fX+%.2f \"%(coff, intercept))"
   ]
  },
  {
   "cell_type": "markdown",
   "metadata": {},
   "source": [
    "As you can see ElasticNet linear model predicts marks as 89.46 for 9.25hrs of study\n",
    "\n",
    "mean_absolute_error of model = 4.80"
   ]
  },
  {
   "cell_type": "code",
   "execution_count": 19,
   "metadata": {},
   "outputs": [
    {
     "data": {
      "text/plain": [
       "<matplotlib.legend.Legend at 0x19f8cc30160>"
      ]
     },
     "execution_count": 19,
     "metadata": {},
     "output_type": "execute_result"
    },
    {
     "data": {
      "image/png": "[encoded data removed]",
      "text/plain": [
       "<Figure size 432x288 with 1 Axes>"
      ]
     },
     "metadata": {
      "needs_background": "light"
     },
     "output_type": "display_data"
    }
   ],
   "source": [
    "# plotting predicted line along with data points to view the fit\n",
    "regr = X*coff+intercept\n",
    "plt.scatter(X, Y)\n",
    "plt.plot(X,regr,'r')\n",
    "plt.xlabel(\"No_of_hours_study\")\n",
    "plt.ylabel(\"Marks_obtained\")\n",
    "plt.legend([\"regressor_line\",\"points\"])"
   ]
  },
  {
   "cell_type": "code",
   "execution_count": null,
   "metadata": {},
   "outputs": [],
   "source": []
  }
 ],
 "metadata": {
  "kernelspec": {
   "display_name": "Python 3",
   "language": "python",
   "name": "python3"
  },
  "language_info": {
   "codemirror_mode": {
    "name": "ipython",
    "version": 3
   },
   "file_extension": ".py",
   "mimetype": "text/x-python",
   "name": "python",
   "nbconvert_exporter": "python",
   "pygments_lexer": "ipython3",
   "version": "3.8.2"
  }
 },
 "nbformat": 4,
 "nbformat_minor": 4
}
